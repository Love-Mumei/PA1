{
 "cells": [
  {
   "cell_type": "code",
   "execution_count": 19,
   "id": "380abb92-039c-4adf-b532-f4091494f6e5",
   "metadata": {},
   "outputs": [
    {
     "name": "stdin",
     "output_type": "stream",
     "text": [
      "type a word:  I miss her\n"
     ]
    },
    {
     "data": {
      "text/plain": [
       "'  Iehimrss'"
      ]
     },
     "execution_count": 19,
     "metadata": {},
     "output_type": "execute_result"
    }
   ],
   "source": [
    "#1 Alphabet soup\n",
    "#make a function that informs the user to enter a word/s and sorts the word in alphabetical order\n",
    "def alphabet_soup():\n",
    "    #ask user to input a word/s\n",
    "    word = input(\"type a word: \")\n",
    "    #used to sort the word in alphabetical order\n",
    "    sorted_word = ''.join(sorted(word))\n",
    "    return sorted_word\n",
    "#call the function\n",
    "alphabet_soup()"
   ]
  },
  {
   "cell_type": "code",
   "execution_count": 33,
   "id": "b231806b-a7b2-4493-afc0-5f05596b9be9",
   "metadata": {},
   "outputs": [
    {
     "name": "stdin",
     "output_type": "stream",
     "text": [
      "Enter a sentence:  I'm mad\n"
     ]
    },
    {
     "data": {
      "text/plain": [
       "\"I'm >:(\""
      ]
     },
     "execution_count": 33,
     "metadata": {},
     "output_type": "execute_result"
    }
   ],
   "source": [
    "#2 emotify\n",
    "#create a function that converts the words to emotes\n",
    "def emotify(sentence):\n",
    "    #the dictionary that puts the emotes to the word associated\n",
    "    emote = {\"smile\" : \":)\", \"grin\" : \":D\", \"sad\" : \":(\", \"mad\" : \">:(\" }\n",
    "    result = []\n",
    "    for word in sentence.split():\n",
    "        real_word = word #stores the original word if the word is not in the dictionary\n",
    "        lower = word.lower() #converts the words to lowercase in case that the word is starts in a capital letter\n",
    "        result.append(emote.get(lower, real_word))  #append the real word or the emoticon to the result\n",
    "    return \" \".join(result)\n",
    "emotify(input (\"Enter a sentence: \"))"
   ]
  },
  {
   "cell_type": "code",
   "execution_count": 47,
   "id": "f15fc81d-ee14-4471-8c97-a09b6b244aed",
   "metadata": {},
   "outputs": [
    {
     "name": "stdin",
     "output_type": "stream",
     "text": [
      "Write your code here use space to separate the number:  1 2 3 4 5 6\n"
     ]
    },
    {
     "name": "stdout",
     "output_type": "stream",
     "text": [
      "First: 1\n",
      "Middle: 2, 3, 4, 5\n",
      "Last: 6\n"
     ]
    }
   ],
   "source": [
    "#3 Unpacking list problem\n",
    "code = input (\"Write your code here use space to separate the number: \") #instruct user to input numbers\n",
    "writeyourcodehere = code.split() #breaks down the string into a list\n",
    "first, *middle, last = writeyourcodehere #unpack the list to 3 parts which is the first, middle, and last\n",
    "middle_str = \", \".join(middle) #makes the output of the middle neat\n",
    "\n",
    "#print all outputs\n",
    "print (\"First: \" + first)\n",
    "print (\"Middle: \" + middle_str)\n",
    "print (\"Last: \" + last)"
   ]
  },
  {
   "cell_type": "code",
   "execution_count": null,
   "id": "cec89acb-c1c9-446e-8068-ae60d031c9b3",
   "metadata": {},
   "outputs": [],
   "source": []
  }
 ],
 "metadata": {
  "kernelspec": {
   "display_name": "Python 3 (ipykernel)",
   "language": "python",
   "name": "python3"
  },
  "language_info": {
   "codemirror_mode": {
    "name": "ipython",
    "version": 3
   },
   "file_extension": ".py",
   "mimetype": "text/x-python",
   "name": "python",
   "nbconvert_exporter": "python",
   "pygments_lexer": "ipython3",
   "version": "3.12.4"
  }
 },
 "nbformat": 4,
 "nbformat_minor": 5
}
